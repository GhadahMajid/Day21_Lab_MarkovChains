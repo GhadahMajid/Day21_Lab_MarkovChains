{
 "cells": [
  {
   "cell_type": "markdown",
   "id": "7d182015",
   "metadata": {},
   "source": [
    "# Google's Pagerank Algorithm - Markov Chains\n",
    "\n",
    "\n",
    "<img src=\"https://cocosolution.com/cms/uploads/o_1ed6r35g5cvg189nclhskkfnfa.jpg\" width=\"500\" height=\"500\" />"
   ]
  },
  {
   "cell_type": "markdown",
   "id": "f7b4546d",
   "metadata": {},
   "source": [
    "Whenever you give a query on Google, you will get the web pages in an order based on their Page Rank. \n",
    "\n",
    "**PageRank** algorithm is the one behind this ordering of search results, it's the Heart of the Google Search Engine!!!\n",
    "\n",
    "\n",
    "**PageRank** is based on the random surfer, it measure the importance of the page. When we surfe the internet clicking on random links will be interpreted as a Markov Chain, which is transition from one state (webpage) to another by considering only the current state.\n"
   ]
  },
  {
   "cell_type": "markdown",
   "id": "27be409f",
   "metadata": {},
   "source": [
    "<img src=\"https://miro.medium.com/max/892/1*E1QqUL6eQpJsuxI9V5FE7g.png\" width=\"400\" height=\"400\" />"
   ]
  },
  {
   "cell_type": "markdown",
   "id": "4ea29108",
   "metadata": {},
   "source": [
    "**Google PageRank** is a popular example of Markov Chine and  Random Walks. Rather than going into the content and ranking the pages, Page rank makes use of the linked structure to rank the pages.\n",
    "\n",
    "**PageRank** is computed based on the incoming and outgoing links to the page. Link from a high reputed page has a higher weight compared to that of the link from a low reputed page.\n",
    "\n",
    "Each **state** represents one web page, Each **transition probability** represents the probability of moving from one page to another."
   ]
  },
  {
   "cell_type": "markdown",
   "id": "f1282b4a",
   "metadata": {},
   "source": [
    "<img src=\"https://upload.wikimedia.org/wikipedia/commons/thumb/f/fb/PageRanks-Example.svg/1200px-PageRanks-Example.svg.png\" width=\"500\" height=\"500\" />"
   ]
  },
  {
   "cell_type": "markdown",
   "id": "46e19af4",
   "metadata": {},
   "source": [
    "The heaver the incoming links a page has, the more important the page is. Even though ‘C’ has a single link from B. The incoming link from B carries more weight.\n",
    "\n",
    "\n",
    "\n",
    "**PageRank** is developed by Google founders Larry Page and Sergey Brin in 1996. Google has further developed this method. The current model details were kept confidential but still the current method is based on the original one."
   ]
  },
  {
   "cell_type": "markdown",
   "id": "32821618",
   "metadata": {},
   "source": [
    "\n",
    "### References\n",
    "> Google Page Rank and Markov Chains, [Link](https://medium.com/analytics-vidhya/google-page-rank-and-markov-chains-d65717b98f9c)."
   ]
  }
 ],
 "metadata": {
  "kernelspec": {
   "display_name": "Python 3 (ipykernel)",
   "language": "python",
   "name": "python3"
  },
  "language_info": {
   "codemirror_mode": {
    "name": "ipython",
    "version": 3
   },
   "file_extension": ".py",
   "mimetype": "text/x-python",
   "name": "python",
   "nbconvert_exporter": "python",
   "pygments_lexer": "ipython3",
   "version": "3.9.7"
  }
 },
 "nbformat": 4,
 "nbformat_minor": 5
}
